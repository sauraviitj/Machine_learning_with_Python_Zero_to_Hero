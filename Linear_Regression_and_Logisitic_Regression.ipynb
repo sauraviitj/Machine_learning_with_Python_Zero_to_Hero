{
  "nbformat": 4,
  "nbformat_minor": 0,
  "metadata": {
    "colab": {
      "provenance": [],
      "authorship_tag": "ABX9TyMLRr8hJ2J1TCgZlX5DSIzm",
      "include_colab_link": true
    },
    "kernelspec": {
      "name": "python3",
      "display_name": "Python 3"
    },
    "language_info": {
      "name": "python"
    }
  },
  "cells": [
    {
      "cell_type": "markdown",
      "metadata": {
        "id": "view-in-github",
        "colab_type": "text"
      },
      "source": [
        "<a href=\"https://colab.research.google.com/github/sauraviitj/Machine_learning_with_Python_Zero_to_Hero/blob/main/Linear_Regression_and_Logisitic_Regression.ipynb\" target=\"_parent\"><img src=\"https://colab.research.google.com/assets/colab-badge.svg\" alt=\"Open In Colab\"/></a>"
      ]
    },
    {
      "cell_type": "markdown",
      "source": [
        "##Linear Regression:\n",
        "Linear regression is a statistical method and machine learning algorithm used to model the relationship between an independent variable (X) and a dependent variable (Y) by fitting a straight line to observed data.\n",
        "\n",
        "It helps predict the value of Y based on X.\n",
        "\n",
        "For a given equation y= mx+c where m is the slope and c is the gradient\n",
        "\n",
        "suppose we are given a set of data        \n",
        "![image.png](data:image/png;base64,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)\n",
        "\n"
      ],
      "metadata": {
        "id": "ShK0XCsEmwcQ"
      }
    },
    {
      "cell_type": "code",
      "execution_count": null,
      "metadata": {
        "id": "hH4t_S8Qjt5w"
      },
      "outputs": [],
      "source": [
        "#load important libraries\n",
        "import numpy as np\n",
        "import matplotlib.pyplot as plt\n"
      ]
    },
    {
      "cell_type": "code",
      "source": [
        "X= np.array([20,25,30,35,40], dtype=np.float64) # value of X\n",
        "Y=np.array([200,300,3500,500,1000],dtype=np.float64) #value of Y\n",
        "\n",
        "#Normalise X and Y and bring the values between -1 to 1\n",
        "X_norm=((X-X.mean())/X.std())\n",
        "Y_norm=((Y-Y.mean())/Y.std())\n",
        "print(f\"X after normalisation {X_norm}\")\n",
        "print(f\"Y after normalisation {Y_norm}\")"
      ],
      "metadata": {
        "colab": {
          "base_uri": "https://localhost:8080/"
        },
        "id": "3dkSJ2Dt4Jf3",
        "outputId": "db701251-950c-4a74-f4ba-c30949b238e5"
      },
      "execution_count": null,
      "outputs": [
        {
          "output_type": "stream",
          "name": "stdout",
          "text": [
            "X after normalisation [-1.41421356 -0.70710678  0.          0.70710678  1.41421356]\n",
            "Y after normalisation [-0.73095882 -0.64974117  1.94922351 -0.48730588 -0.08121765]\n"
          ]
        }
      ]
    },
    {
      "cell_type": "code",
      "source": [
        "m=0.0 #initial weight of m\n",
        "c=0.0 #initial weight of c\n",
        "\n",
        "lr=0.001\n",
        "epochs=100000\n",
        "n=len(X) # length of data"
      ],
      "metadata": {
        "id": "ZDqb0Rn96FxT"
      },
      "execution_count": null,
      "outputs": []
    },
    {
      "cell_type": "code",
      "source": [
        "for epochs in range(epochs):\n",
        "  Y_pred=m*X_norm+c # y= mx+c\n",
        "  D_m=(-2/n) * np.sum((Y_norm-Y_pred)*X_norm) #d/dm\n",
        "  D_c=(-2/n) * np.sum(Y_norm-Y_pred) #d/dc\n",
        "\n",
        "  m=m-lr*D_m #updated weight of m\n",
        "  c=c-lr*D_c #updated weught of c\n",
        "  #print(D_c)\n",
        "  if epochs % 10000==0:\n",
        "    loss= np.mean((Y_norm-Y_pred)**2)\n",
        "    print(f\"Loss is {loss}\")"
      ],
      "metadata": {
        "colab": {
          "base_uri": "https://localhost:8080/"
        },
        "id": "MjIEtdpc6iNS",
        "outputId": "a899cb85-8645-4be5-f35c-09e579bd6584"
      },
      "execution_count": null,
      "outputs": [
        {
          "output_type": "stream",
          "name": "stdout",
          "text": [
            "Loss is 1.0\n",
            "Loss is 0.9572559366754618\n",
            "Loss is 0.9572559366754618\n",
            "Loss is 0.9572559366754618\n",
            "Loss is 0.9572559366754618\n",
            "Loss is 0.9572559366754618\n",
            "Loss is 0.9572559366754618\n",
            "Loss is 0.9572559366754618\n",
            "Loss is 0.9572559366754618\n",
            "Loss is 0.9572559366754618\n"
          ]
        }
      ]
    },
    {
      "cell_type": "code",
      "source": [
        "#Denormalise\n",
        "Y_pred_norm= Y_pred\n",
        "Y_pred=Y_pred_norm*Y.std()+Y.mean()\n",
        "print(Y_pred)\n",
        "X=X_norm*X.std()+X.mean()\n",
        "print(X)\n",
        "Y=Y_norm*Y.std()+Y.mean()\n",
        "print(Y)"
      ],
      "metadata": {
        "colab": {
          "base_uri": "https://localhost:8080/"
        },
        "id": "gUPlr5DT-25E",
        "outputId": "4b2edd47-641b-4a75-8c73-a99a3c9773d7"
      },
      "execution_count": null,
      "outputs": [
        {
          "output_type": "stream",
          "name": "stdout",
          "text": [
            "[ 740.  920. 1100. 1280. 1460.]\n",
            "[20. 25. 30. 35. 40.]\n",
            "[ 200.  300. 3500.  500. 1000.]\n"
          ]
        }
      ]
    },
    {
      "cell_type": "code",
      "source": [
        "plt.scatter(X,Y, color='blue', label=\"Original\")\n",
        "plt.plot(X,Y_pred, color='red', label='Predicted')\n",
        "plt.xlabel(\"Age\")\n",
        "plt.ylabel(\"Money\")\n",
        "plt.legend()\n",
        "plt.title(\"Linear Regression From Scratch\")\n",
        "plt.show()"
      ],
      "metadata": {
        "colab": {
          "base_uri": "https://localhost:8080/",
          "height": 472
        },
        "id": "LnHN55eg_-WV",
        "outputId": "d5e54287-a5a9-4cd1-8306-22e88b829c3c"
      },
      "execution_count": null,
      "outputs": [
        {
          "output_type": "display_data",
          "data": {
            "text/plain": [
              "<Figure size 640x480 with 1 Axes>"
            ],
            "image/png": "[encoded data removed]"
          },
          "metadata": {}
        }
      ]
    },
    {
      "cell_type": "code",
      "source": [
        "age= 28\n",
        "age_norm=(age-X.mean())/X.std()\n",
        "#print(age_norm)\n",
        "Y_pred_norm= m*age_norm+c\n",
        "Y_pred=Y_pred_norm*Y.std()+Y.mean()\n",
        "print(Y_pred)"
      ],
      "metadata": {
        "colab": {
          "base_uri": "https://localhost:8080/"
        },
        "id": "RwRJiJ5oBoHN",
        "outputId": "115fb5e7-f256-4ca6-eff2-cfec7ac01573"
      },
      "execution_count": null,
      "outputs": [
        {
          "output_type": "stream",
          "name": "stdout",
          "text": [
            "1028.0000000000025\n"
          ]
        }
      ]
    },
    {
      "cell_type": "markdown",
      "source": [
        "##Mulitple Regression"
      ],
      "metadata": {
        "id": "W4XoNVvLpg_3"
      }
    },
    {
      "cell_type": "code",
      "source": [
        "import numpy as np\n",
        "\n",
        "# Independent variables\n",
        "X = np.array([\n",
        "    [10, 7, 70],\n",
        "    [15, 8, 80],\n",
        "    [8, 6, 60],\n",
        "    [20, 9, 90],\n",
        "    [12, 7, 75],\n",
        "    [18, 8, 85],\n",
        "    [5, 5, 50],\n",
        "    [22, 9, 95],\n",
        "    [17, 8, 88],\n",
        "    [9, 6, 65]\n",
        "])\n",
        "\n",
        "# Target variable\n",
        "y = np.array([75, 82, 68, 90, 78, 88, 60, 92, 86, 70])  # shape: (10,)\n",
        "\n",
        "import numpy as np\n",
        "\n",
        "# Independent variables: [Preparation, Skill, Health]\n",
        "X_test = np.array([\n",
        "    [14, 7, 78],\n",
        "    [6, 5, 55],\n",
        "    [19, 9, 92],\n",
        "    [11, 7, 70],\n",
        "    [16, 8, 83],\n",
        "    [7, 6, 60],\n",
        "    [13, 7, 74],\n",
        "    [21, 9, 96],\n",
        "    [10, 6, 68],\n",
        "    [17, 8, 85]\n",
        "])\n",
        "\n",
        "# Target variable: performance/percentage\n",
        "y_test = np.array([80, 62, 91, 74, 85, 66, 77, 93, 72, 88])\n",
        "\n"
      ],
      "metadata": {
        "id": "idqZCMXk9ePI"
      },
      "execution_count": null,
      "outputs": []
    },
    {
      "cell_type": "code",
      "source": [
        "print(f\"Shape of X= {X.shape}\")\n",
        "print(f\"Shape of y= {y.shape}\")\n"
      ],
      "metadata": {
        "colab": {
          "base_uri": "https://localhost:8080/"
        },
        "id": "OzoUj-DxAHiw",
        "outputId": "f9254fe0-8c60-4fc4-ca77-02d83cbc7b0f"
      },
      "execution_count": null,
      "outputs": [
        {
          "output_type": "stream",
          "name": "stdout",
          "text": [
            "Shape of X= (10, 3)\n",
            "Shape of y= (10,)\n"
          ]
        }
      ]
    },
    {
      "cell_type": "code",
      "source": [
        "\n",
        "np.ones(X.shape[0],)"
      ],
      "metadata": {
        "colab": {
          "base_uri": "https://localhost:8080/"
        },
        "id": "5FrTnU4zFoH5",
        "outputId": "aaf0a000-cf62-4f49-d4f4-4d30fbdffb83"
      },
      "execution_count": null,
      "outputs": [
        {
          "output_type": "execute_result",
          "data": {
            "text/plain": [
              "array([1., 1., 1., 1., 1., 1., 1., 1., 1., 1.])"
            ]
          },
          "metadata": {},
          "execution_count": 271
        }
      ]
    },
    {
      "cell_type": "code",
      "source": [
        "X = np.vstack((np.ones((X.shape[0], )), X.T)).T"
      ],
      "metadata": {
        "id": "wXbx1LrEDW_s"
      },
      "execution_count": null,
      "outputs": []
    },
    {
      "cell_type": "code",
      "source": [
        "print(X)\n",
        "print(f\"Shape of X= {X.shape}\")\n",
        "print(f\"Shape of y= {y.shape}\")"
      ],
      "metadata": {
        "colab": {
          "base_uri": "https://localhost:8080/"
        },
        "id": "hn7II4qxG8wK",
        "outputId": "1bdd8ff4-cc35-4049-94fb-63298bb1edbe"
      },
      "execution_count": null,
      "outputs": [
        {
          "output_type": "stream",
          "name": "stdout",
          "text": [
            "[[ 1. 10.  7. 70.]\n",
            " [ 1. 15.  8. 80.]\n",
            " [ 1.  8.  6. 60.]\n",
            " [ 1. 20.  9. 90.]\n",
            " [ 1. 12.  7. 75.]\n",
            " [ 1. 18.  8. 85.]\n",
            " [ 1.  5.  5. 50.]\n",
            " [ 1. 22.  9. 95.]\n",
            " [ 1. 17.  8. 88.]\n",
            " [ 1.  9.  6. 65.]]\n",
            "Shape of X= (10, 4)\n",
            "Shape of y= (10,)\n"
          ]
        }
      ]
    },
    {
      "cell_type": "code",
      "source": [
        "X[9:,1:]"
      ],
      "metadata": {
        "colab": {
          "base_uri": "https://localhost:8080/"
        },
        "id": "jvj1v_DhIMbZ",
        "outputId": "9f84dae0-5cf3-4b70-8fd1-28ca8a253fee"
      },
      "execution_count": null,
      "outputs": [
        {
          "output_type": "execute_result",
          "data": {
            "text/plain": [
              "array([[ 9.,  6., 65.]])"
            ]
          },
          "metadata": {},
          "execution_count": 255
        }
      ]
    },
    {
      "cell_type": "code",
      "source": [
        "X_test=np.vstack((np.ones(X_test.shape[0]), X_test.T)).T\n",
        "print(X_test)"
      ],
      "metadata": {
        "colab": {
          "base_uri": "https://localhost:8080/"
        },
        "id": "6C7iK4l8N4i9",
        "outputId": "8333bf42-3b63-4216-ff60-1924d887afaf"
      },
      "execution_count": null,
      "outputs": [
        {
          "output_type": "stream",
          "name": "stdout",
          "text": [
            "[[ 1. 14.  7. 78.]\n",
            " [ 1.  6.  5. 55.]\n",
            " [ 1. 19.  9. 92.]\n",
            " [ 1. 11.  7. 70.]\n",
            " [ 1. 16.  8. 83.]\n",
            " [ 1.  7.  6. 60.]\n",
            " [ 1. 13.  7. 74.]\n",
            " [ 1. 21.  9. 96.]\n",
            " [ 1. 10.  6. 68.]\n",
            " [ 1. 17.  8. 85.]]\n"
          ]
        }
      ]
    },
    {
      "cell_type": "code",
      "source": [
        "# Initialize a column vector of zeros with length equal to the number of features:\n",
        "m = np.zeros((X.shape[1], 1))  # Shape: (num_features or number of parameters, 1 as in column)\n",
        "\n",
        "# Explanation:\n",
        "# np.zeros(...) creates an array filled with zeros.\n",
        "# (X.shape[1], 1) is a tuple specifying a 2D shape:\n",
        "#   - rows = number of features (X.shape[1])\n",
        "#   - columns = 1, making it a column vector\n",
        "# This kind of array is often used to store parameters like coefficients (theta) in linear regression.\n",
        "print(m)"
      ],
      "metadata": {
        "colab": {
          "base_uri": "https://localhost:8080/"
        },
        "id": "7WtNl1jGRi_u",
        "outputId": "2438efc7-8ea7-4a6d-8938-e542073d87e4"
      },
      "execution_count": null,
      "outputs": [
        {
          "output_type": "stream",
          "name": "stdout",
          "text": [
            "[[0.]\n",
            " [0.]\n",
            " [0.]\n",
            " [0.]]\n"
          ]
        }
      ]
    },
    {
      "cell_type": "code",
      "source": [
        "def model(X, y, lr, epochs):\n",
        "  \"\"\"\n",
        "  A simple linear regression model.\n",
        "\n",
        "  Args:\n",
        "    X: The input features, with a bias term.\n",
        "    y: The target values.\n",
        "    lr: The learning rate.\n",
        "    epochs: The number of training epochs.\n",
        "\n",
        "  Returns:\n",
        "    A tuple containing the trained model parameters (m) and a list of losses\n",
        "    over the training epochs.\n",
        "  \"\"\"\n",
        "  n = y.size\n",
        "  m = np.zeros((X.shape[1], 1))\n",
        "  loss_list = []\n",
        "  y = y.reshape(-1, 1)\n",
        "\n",
        "  for i in range(epochs):\n",
        "    # Calculate predictions\n",
        "    y_pred = np.dot(X, m)\n",
        "\n",
        "    # Calculate loss (Mean Squared Error)\n",
        "    loss = np.sum((y_pred - y)**2) / (2 * n)\n",
        "\n",
        "    # Calculate the gradient (derivative of the loss with respect to m)\n",
        "    D_m = np.dot(X.T, (y_pred - y)) / n\n",
        "\n",
        "    # Update the model parameters\n",
        "    m = m - lr * D_m\n",
        "\n",
        "    loss_list.append(loss)\n",
        "\n",
        "    if i % 100 == 0:\n",
        "      print(f\"Loss after {i} epochs: {loss}\")\n",
        "\n",
        "  return m, loss_list"
      ],
      "metadata": {
        "id": "4RIOiXMXQ44N"
      },
      "execution_count": null,
      "outputs": []
    },
    {
      "cell_type": "code",
      "source": [
        "epochs = 10000\n",
        "lr = 1e-6\n",
        "m, loss_list = model(X, y, lr=lr, epochs=epochs)\n",
        "\n",
        "# Plot the loss over epochs\n",
        "import matplotlib.pyplot as plt\n",
        "plt.plot(loss_list)\n",
        "plt.xlabel(\"Epoch\")\n",
        "plt.ylabel(\"Loss\")\n",
        "plt.title(\"Training Loss\")\n",
        "plt.show()"
      ],
      "metadata": {
        "colab": {
          "base_uri": "https://localhost:8080/",
          "height": 1000
        },
        "id": "epLNBKu_XdUB",
        "outputId": "97acbde6-31ec-4e0b-9ddd-727cfdf980b2"
      },
      "execution_count": null,
      "outputs": [
        {
          "output_type": "stream",
          "name": "stdout",
          "text": [
            "Loss after 0 epochs: 3163.05\n",
            "Loss after 100 epochs: 920.9840491882945\n",
            "Loss after 200 epochs: 274.0706754346489\n",
            "Loss after 300 epochs: 87.40588339148863\n",
            "Loss after 400 epochs: 33.53639951738633\n",
            "Loss after 500 epochs: 17.98229703663936\n",
            "Loss after 600 epochs: 13.48333061966866\n",
            "Loss after 700 epochs: 12.17411549264001\n",
            "Loss after 800 epochs: 11.785256149844699\n",
            "Loss after 900 epochs: 11.661965027696827\n",
            "Loss after 1000 epochs: 11.615316572356871\n",
            "Loss after 1100 epochs: 11.590800159158757\n",
            "Loss after 1200 epochs: 11.572687834750052\n",
            "Loss after 1300 epochs: 11.556441590290525\n",
            "Loss after 1400 epochs: 11.540752045998648\n",
            "Loss after 1500 epochs: 11.525241376846285\n",
            "Loss after 1600 epochs: 11.509800538875634\n",
            "Loss after 1700 epochs: 11.494398039444967\n",
            "Loss after 1800 epochs: 11.479024761804556\n",
            "Loss after 1900 epochs: 11.463678045359586\n",
            "Loss after 2000 epochs: 11.448357092356341\n",
            "Loss after 2100 epochs: 11.43306164257572\n",
            "Loss after 2200 epochs: 11.417791590942976\n",
            "Loss after 2300 epochs: 11.402546877196997\n",
            "Loss after 2400 epochs: 11.387327454056273\n",
            "Loss after 2500 epochs: 11.372133278034093\n",
            "Loss after 2600 epochs: 11.356964306788079\n",
            "Loss after 2700 epochs: 11.341820498355498\n",
            "Loss after 2800 epochs: 11.326701810932564\n",
            "Loss after 2900 epochs: 11.311608202810561\n",
            "Loss after 3000 epochs: 11.296539632357625\n",
            "Loss after 3100 epochs: 11.281496058012923\n",
            "Loss after 3200 epochs: 11.266477438285335\n",
            "Loss after 3300 epochs: 11.251483731752767\n",
            "Loss after 3400 epochs: 11.236514897061934\n",
            "Loss after 3500 epochs: 11.221570892928264\n",
            "Loss after 3600 epochs: 11.20665167813563\n",
            "Loss after 3700 epochs: 11.19175721153638\n",
            "Loss after 3800 epochs: 11.176887452051105\n",
            "Loss after 3900 epochs: 11.16204235866867\n",
            "Loss after 4000 epochs: 11.147221890445904\n",
            "Loss after 4100 epochs: 11.132426006507735\n",
            "Loss after 4200 epochs: 11.117654666046821\n",
            "Loss after 4300 epochs: 11.102907828323593\n",
            "Loss after 4400 epochs: 11.08818545266615\n",
            "Loss after 4500 epochs: 11.073487498470048\n",
            "Loss after 4600 epochs: 11.058813925198226\n",
            "Loss after 4700 epochs: 11.044164692380976\n",
            "Loss after 4800 epochs: 11.02953975961574\n",
            "Loss after 4900 epochs: 11.014939086567018\n",
            "Loss after 5000 epochs: 11.000362632966198\n",
            "Loss after 5100 epochs: 10.985810358611712\n",
            "Loss after 5200 epochs: 10.971282223368446\n",
            "Loss after 5300 epochs: 10.956778187168137\n",
            "Loss after 5400 epochs: 10.942298210008898\n",
            "Loss after 5500 epochs: 10.927842251955283\n",
            "Loss after 5600 epochs: 10.913410273138151\n",
            "Loss after 5700 epochs: 10.899002233754487\n",
            "Loss after 5800 epochs: 10.884618094067484\n",
            "Loss after 5900 epochs: 10.87025781440607\n",
            "Loss after 6000 epochs: 10.855921355165204\n",
            "Loss after 6100 epochs: 10.841608676805544\n",
            "Loss after 6200 epochs: 10.827319739853344\n",
            "Loss after 6300 epochs: 10.81305450490039\n",
            "Loss after 6400 epochs: 10.798812932603893\n",
            "Loss after 6500 epochs: 10.78459498368639\n",
            "Loss after 6600 epochs: 10.770400618935543\n",
            "Loss after 6700 epochs: 10.756229799204245\n",
            "Loss after 6800 epochs: 10.742082485410167\n",
            "Loss after 6900 epochs: 10.727958638536043\n",
            "Loss after 7000 epochs: 10.713858219629236\n",
            "Loss after 7100 epochs: 10.699781189801836\n",
            "Loss after 7200 epochs: 10.685727510230505\n",
            "Loss after 7300 epochs: 10.671697142156287\n",
            "Loss after 7400 epochs: 10.657690046884573\n",
            "Loss after 7500 epochs: 10.643706185785032\n",
            "Loss after 7600 epochs: 10.629745520291369\n",
            "Loss after 7700 epochs: 10.615808011901425\n",
            "Loss after 7800 epochs: 10.601893622176812\n",
            "Loss after 7900 epochs: 10.588002312743061\n",
            "Loss after 8000 epochs: 10.574134045289338\n",
            "Loss after 8100 epochs: 10.560288781568417\n",
            "Loss after 8200 epochs: 10.546466483396603\n",
            "Loss after 8300 epochs: 10.53266711265348\n",
            "Loss after 8400 epochs: 10.51889063128201\n",
            "Loss after 8500 epochs: 10.505137001288281\n",
            "Loss after 8600 epochs: 10.491406184741432\n",
            "Loss after 8700 epochs: 10.477698143773583\n",
            "Loss after 8800 epochs: 10.464012840579752\n",
            "Loss after 8900 epochs: 10.450350237417613\n",
            "Loss after 9000 epochs: 10.436710296607588\n",
            "Loss after 9100 epochs: 10.423092980532552\n",
            "Loss after 9200 epochs: 10.409498251637915\n",
            "Loss after 9300 epochs: 10.395926072431353\n",
            "Loss after 9400 epochs: 10.382376405482821\n",
            "Loss after 9500 epochs: 10.368849213424342\n",
            "Loss after 9600 epochs: 10.355344458950077\n",
            "Loss after 9700 epochs: 10.341862104815934\n",
            "Loss after 9800 epochs: 10.328402113839825\n",
            "Loss after 9900 epochs: 10.314964448901325\n"
          ]
        },
        {
          "output_type": "display_data",
          "data": {
            "text/plain": [
              "<Figure size 640x480 with 1 Axes>"
            ],
            "image/png": "[encoded data removed]"
          },
          "metadata": {}
        }
      ]
    },
    {
      "cell_type": "code",
      "source": [
        "\n",
        "y_pred =np.dot(X_test,m)\n",
        "y_pred=y_pred.flatten()\n",
        "Test_error=(1/X_test.shape[0])*np.sum((y_pred-y_test)**2)\n",
        "print(y_pred-y_test)\n",
        "print(f\"TEst error is :{Test_error}\")\n",
        "print(y_pred.shape) #This is a 2-dimensional array (2D array or matrix) with 10 rows and 1 column\n",
        "print(y_test.shape) #This is a 1-dimensional array (1D array or vector) with 10 elements.\n",
        "\n",
        "print(y_pred.shape) #This is a 1-dimensional array (1D array or vector) with 10 elements.\n",
        "Test_loss=np.sqrt((y_pred-y_test)**2)\n"
      ],
      "metadata": {
        "colab": {
          "base_uri": "https://localhost:8080/"
        },
        "id": "dJDsnexIe-uO",
        "outputId": "6cea3577-8408-4252-d63d-8e7ba48aeea8"
      },
      "execution_count": null,
      "outputs": [
        {
          "output_type": "stream",
          "name": "stdout",
          "text": [
            "[ 0.30065466 -5.61824332  3.94812186 -1.96241758  0.57497053 -4.40932878\n",
            " -0.7981808   6.11235865 -2.14625653 -0.34291107]\n",
            "TEst error is :11.358859758581687\n",
            "(10,)\n",
            "(10,)\n",
            "(10,)\n"
          ]
        }
      ]
    },
    {
      "cell_type": "code",
      "source": [
        "\n",
        "#print(y_pred-y_test)\n",
        "\n",
        "print(Test_loss)\n",
        "plt.plot(Test_loss)\n",
        "plt.xlabel(\"test cases\")\n",
        "plt.ylabel(\"Loss\")\n",
        "plt.title(\"Test Loss\")\n",
        "plt.show()\n"
      ],
      "metadata": {
        "colab": {
          "base_uri": "https://localhost:8080/",
          "height": 507
        },
        "id": "awxkWkp1c5Zm",
        "outputId": "0b709161-9f16-45b6-9d0f-285c0e6ba251"
      },
      "execution_count": null,
      "outputs": [
        {
          "output_type": "stream",
          "name": "stdout",
          "text": [
            "[0.30065466 5.61824332 3.94812186 1.96241758 0.57497053 4.40932878\n",
            " 0.7981808  6.11235865 2.14625653 0.34291107]\n"
          ]
        },
        {
          "output_type": "display_data",
          "data": {
            "text/plain": [
              "<Figure size 640x480 with 1 Axes>"
            ],
            "image/png": "[encoded data removed]"
          },
          "metadata": {}
        }
      ]
    },
    {
      "cell_type": "markdown",
      "source": [
        "##Linear Regression with Pytorch\n"
      ],
      "metadata": {
        "id": "Vyoz-XdBo-uE"
      }
    },
    {
      "cell_type": "code",
      "source": [
        "import numpy as np\n",
        "import torch"
      ],
      "metadata": {
        "id": "WXH2_rl-t849"
      },
      "execution_count": null,
      "outputs": []
    },
    {
      "cell_type": "code",
      "source": [
        "\n",
        "\n",
        "# Features: [Study Hours, Attendance %]\n",
        "inputs = np.array([\n",
        "    [2, 40],\n",
        "    [3, 50],\n",
        "    [4, 60],\n",
        "    [5, 65],\n",
        "    [6, 70],\n",
        "    [7, 75],\n",
        "    [8, 80],\n",
        "    [9, 85],\n",
        "    [10, 90],\n",
        "    [1, 30],\n",
        "    [2, 35],\n",
        "    [3, 45],\n",
        "    [4, 50],\n",
        "    [6, 72],\n",
        "    [7, 78]] , dtype='float32'\n",
        ")\n",
        "\n",
        "# Target: Pass (1) or Fail (0)\n",
        "targets = np.array([\n",
        "    [45, 70],\n",
        "    [52, 72],\n",
        "    [60, 75],\n",
        "    [65, 78],\n",
        "    [70, 80],\n",
        "    [75, 82],\n",
        "    [80, 85],\n",
        "    [85, 88],\n",
        "    [90, 90],\n",
        "    [35, 65],\n",
        "    [40, 68],\n",
        "    [50, 72],\n",
        "    [55, 73],\n",
        "    [72, 81],\n",
        "    [78, 84]\n",
        "], dtype='float32')\n",
        "\n"
      ],
      "metadata": {
        "id": "AlvrFANHpEH3"
      },
      "execution_count": null,
      "outputs": []
    },
    {
      "cell_type": "code",
      "source": [
        "inputs= torch.from_numpy(inputs)\n",
        "targets= torch.from_numpy(targets)\n",
        "print(inputs)\n",
        "print(targets)"
      ],
      "metadata": {
        "colab": {
          "base_uri": "https://localhost:8080/"
        },
        "id": "Z9t1v7jytyR1",
        "outputId": "0cb72b68-98b0-4be0-ede5-653b9dc127ff"
      },
      "execution_count": null,
      "outputs": [
        {
          "output_type": "stream",
          "name": "stdout",
          "text": [
            "tensor([[ 2., 40.],\n",
            "        [ 3., 50.],\n",
            "        [ 4., 60.],\n",
            "        [ 5., 65.],\n",
            "        [ 6., 70.],\n",
            "        [ 7., 75.],\n",
            "        [ 8., 80.],\n",
            "        [ 9., 85.],\n",
            "        [10., 90.],\n",
            "        [ 1., 30.],\n",
            "        [ 2., 35.],\n",
            "        [ 3., 45.],\n",
            "        [ 4., 50.],\n",
            "        [ 6., 72.],\n",
            "        [ 7., 78.]])\n",
            "tensor([[45., 70.],\n",
            "        [52., 72.],\n",
            "        [60., 75.],\n",
            "        [65., 78.],\n",
            "        [70., 80.],\n",
            "        [75., 82.],\n",
            "        [80., 85.],\n",
            "        [85., 88.],\n",
            "        [90., 90.],\n",
            "        [35., 65.],\n",
            "        [40., 68.],\n",
            "        [50., 72.],\n",
            "        [55., 73.],\n",
            "        [72., 81.],\n",
            "        [78., 84.]])\n"
          ]
        }
      ]
    },
    {
      "cell_type": "code",
      "source": [
        "#iniitialing weights and biases\n",
        "w= torch.randn(2,2, requires_grad=True)\n",
        "b= torch.randn(2, requires_grad=True)\n",
        "print(w)\n",
        "print(b)"
      ],
      "metadata": {
        "colab": {
          "base_uri": "https://localhost:8080/"
        },
        "id": "mZG_Cge4uSxn",
        "outputId": "c0a046e8-ba48-4bb4-973c-c719d0c6ab69"
      },
      "execution_count": null,
      "outputs": [
        {
          "output_type": "stream",
          "name": "stdout",
          "text": [
            "tensor([[0.3372, 0.1345],\n",
            "        [0.0183, 0.4417]], requires_grad=True)\n",
            "tensor([ 1.2575, -0.4850], requires_grad=True)\n"
          ]
        }
      ]
    },
    {
      "cell_type": "code",
      "source": [
        "w.shape"
      ],
      "metadata": {
        "colab": {
          "base_uri": "https://localhost:8080/"
        },
        "id": "pJym9UpXvt6V",
        "outputId": "2bd8e92b-9804-4a4e-d6d2-dcd183df0f39"
      },
      "execution_count": null,
      "outputs": [
        {
          "output_type": "execute_result",
          "data": {
            "text/plain": [
              "torch.Size([2, 2])"
            ]
          },
          "metadata": {},
          "execution_count": 52
        }
      ]
    },
    {
      "cell_type": "markdown",
      "source": [
        "( N*2 )*(2*2)/w +(N*2)/bias =N*2"
      ],
      "metadata": {
        "id": "LkE89aR-u5tG"
      }
    },
    {
      "cell_type": "code",
      "source": [
        "def model(x):\n",
        "  return x @ w.t() +b"
      ],
      "metadata": {
        "id": "uf9cNFwpu3pf"
      },
      "execution_count": null,
      "outputs": []
    },
    {
      "cell_type": "code",
      "source": [
        "#generate prediction\n",
        "preds =model(inputs)\n",
        "print(preds)\n",
        "print(f'targets : {targets}')"
      ],
      "metadata": {
        "colab": {
          "base_uri": "https://localhost:8080/"
        },
        "id": "9oi5uCbVvpaf",
        "outputId": "02aa545c-40b5-4e67-c5e2-b2575b311a2e"
      },
      "execution_count": null,
      "outputs": [
        {
          "output_type": "stream",
          "name": "stdout",
          "text": [
            "tensor([[ 7.3109, 17.2211],\n",
            "        [ 8.9928, 21.6569],\n",
            "        [10.6748, 26.0926],\n",
            "        [11.6843, 28.3196],\n",
            "        [12.6939, 30.5466],\n",
            "        [13.7034, 32.7736],\n",
            "        [14.7130, 35.0006],\n",
            "        [15.7225, 37.2276],\n",
            "        [16.7321, 39.4546],\n",
            "        [ 5.6289, 12.7854],\n",
            "        [ 6.6385, 15.0125],\n",
            "        [ 8.3204, 19.4482],\n",
            "        [ 9.3300, 21.6752],\n",
            "        [12.9628, 31.4301],\n",
            "        [14.1069, 34.0988]], grad_fn=<AddBackward0>)\n",
            "targets : tensor([[45., 70.],\n",
            "        [52., 72.],\n",
            "        [60., 75.],\n",
            "        [65., 78.],\n",
            "        [70., 80.],\n",
            "        [75., 82.],\n",
            "        [80., 85.],\n",
            "        [85., 88.],\n",
            "        [90., 90.],\n",
            "        [35., 65.],\n",
            "        [40., 68.],\n",
            "        [50., 72.],\n",
            "        [55., 73.],\n",
            "        [72., 81.],\n",
            "        [78., 84.]])\n"
          ]
        }
      ]
    },
    {
      "cell_type": "code",
      "source": [
        "def mse(pred,actual):\n",
        "  diff=pred-actual\n",
        "  mse= torch.sum(diff**2)/diff.numel()\n",
        "  return mse"
      ],
      "metadata": {
        "id": "Fhg0nxeDwxw2"
      },
      "execution_count": null,
      "outputs": []
    },
    {
      "cell_type": "code",
      "source": [
        "loss= mse(preds, targets)\n",
        "print(loss)"
      ],
      "metadata": {
        "colab": {
          "base_uri": "https://localhost:8080/"
        },
        "id": "TUkol9QCzPZJ",
        "outputId": "5fbbc55d-7788-40fe-c466-de48ee240562"
      },
      "execution_count": null,
      "outputs": [
        {
          "output_type": "stream",
          "name": "stdout",
          "text": [
            "tensor(2731.4014, grad_fn=<DivBackward0>)\n"
          ]
        }
      ]
    },
    {
      "cell_type": "code",
      "source": [
        "loss.backward()"
      ],
      "metadata": {
        "id": "TUJtbCwoaVJP"
      },
      "execution_count": null,
      "outputs": []
    },
    {
      "cell_type": "code",
      "source": [
        "with torch.no_grad():\n",
        "  w-=w.grad*1e-5\n",
        "  b-=b.grad*1e-5\n",
        "  w.grad.zero_()\n",
        "  b.grad.zero_()"
      ],
      "metadata": {
        "id": "m5i_0prB_Awq"
      },
      "execution_count": null,
      "outputs": []
    },
    {
      "cell_type": "code",
      "source": [
        "preds=model(inputs)\n",
        "loss=mse(preds,targets)\n",
        "print(loss)"
      ],
      "metadata": {
        "colab": {
          "base_uri": "https://localhost:8080/"
        },
        "id": "Ow9eDnXf84_X",
        "outputId": "dffc7a35-2af7-48b4-fd49-566f9e7f500a"
      },
      "execution_count": null,
      "outputs": [
        {
          "output_type": "stream",
          "name": "stdout",
          "text": [
            "tensor(2518.2639, grad_fn=<DivBackward0>)\n"
          ]
        }
      ]
    },
    {
      "cell_type": "code",
      "source": [
        "for i in range(1000):\n",
        "  preds=model(inputs)\n",
        "  loss=mse(preds, targets)\n",
        "  loss.backward()\n",
        "  with torch.no_grad():\n",
        "    w-=w.grad*1e-5\n",
        "    b-=b.grad*1e-5\n",
        "    w.grad.zero_()\n",
        "    w.grad.zero_()\n",
        "\n"
      ],
      "metadata": {
        "id": "FuWXD95d_Tkg"
      },
      "execution_count": null,
      "outputs": []
    },
    {
      "cell_type": "code",
      "source": [
        "preds=model(inputs)\n",
        "loss=mse(preds,targets)\n",
        "print(loss)"
      ],
      "metadata": {
        "colab": {
          "base_uri": "https://localhost:8080/"
        },
        "id": "l48F-BsUAbFq",
        "outputId": "60d28c74-45ce-4ab0-fb0f-d033ac367fb3"
      },
      "execution_count": null,
      "outputs": [
        {
          "output_type": "stream",
          "name": "stdout",
          "text": [
            "tensor(5.3434, grad_fn=<DivBackward0>)\n"
          ]
        }
      ]
    },
    {
      "cell_type": "code",
      "source": [
        "preds"
      ],
      "metadata": {
        "colab": {
          "base_uri": "https://localhost:8080/"
        },
        "id": "6u1UF2-UAn67",
        "outputId": "73437cf2-a188-4288-8919-9a8a40b367e7"
      },
      "execution_count": null,
      "outputs": [
        {
          "output_type": "execute_result",
          "data": {
            "text/plain": [
              "tensor([[47.6828, 67.4932],\n",
              "        [55.1894, 72.4033],\n",
              "        [62.6960, 77.3133],\n",
              "        [66.6462, 79.7106],\n",
              "        [70.5964, 82.1079],\n",
              "        [74.5466, 84.5052],\n",
              "        [78.4967, 86.9025],\n",
              "        [82.4469, 89.2998],\n",
              "        [86.3971, 91.6971],\n",
              "        [40.1762, 62.5832],\n",
              "        [44.1264, 64.9805],\n",
              "        [51.6330, 69.8905],\n",
              "        [55.5832, 72.2878],\n",
              "        [72.0189, 83.1131],\n",
              "        [76.6804, 86.0129]], grad_fn=<AddBackward0>)"
            ]
          },
          "metadata": {},
          "execution_count": 71
        }
      ]
    },
    {
      "cell_type": "code",
      "source": [
        "targets"
      ],
      "metadata": {
        "colab": {
          "base_uri": "https://localhost:8080/"
        },
        "id": "F1FbldY4AqBs",
        "outputId": "d417f850-4f76-4749-d7c5-9dce2260b5eb"
      },
      "execution_count": null,
      "outputs": [
        {
          "output_type": "execute_result",
          "data": {
            "text/plain": [
              "tensor([[45., 70.],\n",
              "        [52., 72.],\n",
              "        [60., 75.],\n",
              "        [65., 78.],\n",
              "        [70., 80.],\n",
              "        [75., 82.],\n",
              "        [80., 85.],\n",
              "        [85., 88.],\n",
              "        [90., 90.],\n",
              "        [35., 65.],\n",
              "        [40., 68.],\n",
              "        [50., 72.],\n",
              "        [55., 73.],\n",
              "        [72., 81.],\n",
              "        [78., 84.]])"
            ]
          },
          "metadata": {},
          "execution_count": 72
        }
      ]
    },
    {
      "cell_type": "markdown",
      "source": [
        "Linear regression using PyTorch built-ins"
      ],
      "metadata": {
        "id": "_nkv5sdeCeCq"
      }
    },
    {
      "cell_type": "code",
      "source": [],
      "metadata": {
        "id": "LM2xYXGjCdVM"
      },
      "execution_count": null,
      "outputs": []
    }
  ]
}