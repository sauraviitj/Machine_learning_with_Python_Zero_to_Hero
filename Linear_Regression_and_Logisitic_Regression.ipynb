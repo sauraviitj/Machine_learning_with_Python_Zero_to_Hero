{
  "nbformat": 4,
  "nbformat_minor": 0,
  "metadata": {
    "colab": {
      "provenance": [],
      "authorship_tag": "ABX9TyOhhkth71Ppg+o2T5MCSu2Q",
      "include_colab_link": true
    },
    "kernelspec": {
      "name": "python3",
      "display_name": "Python 3"
    },
    "language_info": {
      "name": "python"
    }
  },
  "cells": [
    {
      "cell_type": "markdown",
      "metadata": {
        "id": "view-in-github",
        "colab_type": "text"
      },
      "source": [
        "<a href=\"https://colab.research.google.com/github/sauraviitj/Machine_learning_with_Python_Zero_to_Hero/blob/main/Linear_Regression_and_Logisitic_Regression.ipynb\" target=\"_parent\"><img src=\"https://colab.research.google.com/assets/colab-badge.svg\" alt=\"Open In Colab\"/></a>"
      ]
    },
    {
      "cell_type": "code",
      "execution_count": 1,
      "metadata": {
        "id": "hH4t_S8Qjt5w"
      },
      "outputs": [],
      "source": [
        "import numpy as np\n",
        "import matplotlib.pyplot as plt\n"
      ]
    },
    {
      "cell_type": "code",
      "source": [
        "X= np.array([20,25,30,35,40], dtype=np.float64)\n",
        "Y=np.array([200,300,3500,500,1000],dtype=np.float64)\n",
        "\n",
        "#Normalise X and Y\n",
        "X_norm=((X-X.mean())/X.std())\n",
        "Y_norm=((Y-Y.mean())/Y.std())\n",
        "print(f\"X after normalisation {X_norm}\")\n",
        "print(f\"Y after normalisation {Y_norm}\")"
      ],
      "metadata": {
        "colab": {
          "base_uri": "https://localhost:8080/"
        },
        "id": "3dkSJ2Dt4Jf3",
        "outputId": "2bada224-7950-477a-9b2c-78a6cd8027ef"
      },
      "execution_count": 2,
      "outputs": [
        {
          "output_type": "stream",
          "name": "stdout",
          "text": [
            "X after normalisation [-1.41421356 -0.70710678  0.          0.70710678  1.41421356]\n",
            "Y after normalisation [-0.73095882 -0.64974117  1.94922351 -0.48730588 -0.08121765]\n"
          ]
        }
      ]
    },
    {
      "cell_type": "code",
      "source": [
        "m=0.0\n",
        "c=0.0\n",
        "\n",
        "lr=0.001\n",
        "epochs=100000\n",
        "n=len(X)"
      ],
      "metadata": {
        "id": "ZDqb0Rn96FxT"
      },
      "execution_count": 3,
      "outputs": []
    },
    {
      "cell_type": "code",
      "source": [
        "for epochs in range(epochs):\n",
        "  Y_pred=m*X_norm+c\n",
        "  D_m=(-2/n) * np.sum((Y_norm-Y_pred)*X_norm)\n",
        "  D_c=(-2/n) * np.sum(Y_norm-Y_pred)\n",
        "\n",
        "  m=m-lr*D_m\n",
        "  c=c-lr*D_c\n",
        "  #print(D_c)\n",
        "  if epochs % 10000==0:\n",
        "    loss= np.mean((Y_norm-Y_pred)**2)\n",
        "    print(f\"Loss is {loss}\")"
      ],
      "metadata": {
        "colab": {
          "base_uri": "https://localhost:8080/"
        },
        "id": "MjIEtdpc6iNS",
        "outputId": "5e03e8c5-2d50-4212-f6ba-c9d0899ae9e6"
      },
      "execution_count": 4,
      "outputs": [
        {
          "output_type": "stream",
          "name": "stdout",
          "text": [
            "Loss is 1.0\n",
            "Loss is 0.9572559366754618\n",
            "Loss is 0.9572559366754618\n",
            "Loss is 0.9572559366754618\n",
            "Loss is 0.9572559366754618\n",
            "Loss is 0.9572559366754618\n",
            "Loss is 0.9572559366754618\n",
            "Loss is 0.9572559366754618\n",
            "Loss is 0.9572559366754618\n",
            "Loss is 0.9572559366754618\n"
          ]
        }
      ]
    },
    {
      "cell_type": "code",
      "source": [
        "#Denormalise\n",
        "Y_pred_norm= Y_pred\n",
        "Y_pred=Y_pred_norm*Y.std()+Y.mean()\n",
        "print(Y_pred)\n",
        "X=X_norm*X.std()+X.mean()\n",
        "print(X)\n",
        "Y=Y_norm*Y.std()+Y.mean()\n",
        "print(Y)"
      ],
      "metadata": {
        "colab": {
          "base_uri": "https://localhost:8080/"
        },
        "id": "gUPlr5DT-25E",
        "outputId": "65d16f3e-1aa4-4e57-d265-cb8f43ab71b3"
      },
      "execution_count": 5,
      "outputs": [
        {
          "output_type": "stream",
          "name": "stdout",
          "text": [
            "[ 740.  920. 1100. 1280. 1460.]\n",
            "[20. 25. 30. 35. 40.]\n",
            "[ 200.  300. 3500.  500. 1000.]\n"
          ]
        }
      ]
    },
    {
      "cell_type": "code",
      "source": [
        "plt.scatter(X,Y, color='blue', label=\"Original\")\n",
        "plt.plot(X,Y_pred, color='red', label='Predicted')\n",
        "plt.xlabel(\"Age\")\n",
        "plt.ylabel(\"Money\")\n",
        "plt.legend()\n",
        "plt.title(\"Linear Regression From Scratch\")\n",
        "plt.show()"
      ],
      "metadata": {
        "colab": {
          "base_uri": "https://localhost:8080/",
          "height": 472
        },
        "id": "LnHN55eg_-WV",
        "outputId": "e89474a2-b1d7-4364-dfc3-e04b29257767"
      },
      "execution_count": 6,
      "outputs": [
        {
          "output_type": "display_data",
          "data": {
            "text/plain": [
              "<Figure size 640x480 with 1 Axes>"
            ],
            "image/png": "[encoded data removed]"
          },
          "metadata": {}
        }
      ]
    },
    {
      "cell_type": "code",
      "source": [
        "age= 28\n",
        "age_norm=(age-X.mean())/X.std()\n",
        "#print(age_norm)\n",
        "Y_pred_norm= m*age_norm+c\n",
        "Y_pred=Y_pred_norm*Y.std()+Y.mean()\n",
        "print(Y_pred)"
      ],
      "metadata": {
        "colab": {
          "base_uri": "https://localhost:8080/"
        },
        "id": "RwRJiJ5oBoHN",
        "outputId": "e76feb10-7dcc-4ef6-adf4-6703a9b18ccc"
      },
      "execution_count": 7,
      "outputs": [
        {
          "output_type": "stream",
          "name": "stdout",
          "text": [
            "1028.0000000000025\n"
          ]
        }
      ]
    },
    {
      "cell_type": "code",
      "source": [],
      "metadata": {
        "id": "idqZCMXk9ePI"
      },
      "execution_count": null,
      "outputs": []
    }
  ]
}